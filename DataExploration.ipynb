{
 "cells": [
  {
   "cell_type": "code",
   "execution_count": 1,
   "metadata": {},
   "outputs": [],
   "source": [
    "import pandas as pd"
   ]
  },
  {
   "cell_type": "code",
   "execution_count": 2,
   "metadata": {},
   "outputs": [
    {
     "name": "stdout",
     "output_type": "stream",
     "text": [
      "   Age   Race Marital Status T Stage  N Stage 6th Stage  \\\n",
      "0   68  White        Married       T1      N1       IIA   \n",
      "1   50  White        Married       T2      N2      IIIA   \n",
      "2   58  White       Divorced       T3      N3      IIIC   \n",
      "3   58  White        Married       T1      N1       IIA   \n",
      "4   47  White        Married       T2      N1       IIB   \n",
      "5   51  White        Single        T1      N1       IIA   \n",
      "6   51  White        Married       T1      N1       IIA   \n",
      "7   40  White        Married       T2      N1       IIB   \n",
      "8   40  White       Divorced       T4      N3      IIIC   \n",
      "9   69  White        Married       T4      N3      IIIC   \n",
      "\n",
      "               differentiate Grade   A Stage  Tumor Size Estrogen Status  \\\n",
      "0      Poorly differentiated     3  Regional           4        Positive   \n",
      "1  Moderately differentiated     2  Regional          35        Positive   \n",
      "2  Moderately differentiated     2  Regional          63        Positive   \n",
      "3      Poorly differentiated     3  Regional          18        Positive   \n",
      "4      Poorly differentiated     3  Regional          41        Positive   \n",
      "5  Moderately differentiated     2  Regional          20        Positive   \n",
      "6        Well differentiated     1  Regional           8        Positive   \n",
      "7  Moderately differentiated     2  Regional          30        Positive   \n",
      "8      Poorly differentiated     3  Regional         103        Positive   \n",
      "9        Well differentiated     1   Distant          32        Positive   \n",
      "\n",
      "  Progesterone Status  Regional Node Examined  Reginol Node Positive  \\\n",
      "0            Positive                      24                      1   \n",
      "1            Positive                      14                      5   \n",
      "2            Positive                      14                      7   \n",
      "3            Positive                       2                      1   \n",
      "4            Positive                       3                      1   \n",
      "5            Positive                      18                      2   \n",
      "6            Positive                      11                      1   \n",
      "7            Positive                       9                      1   \n",
      "8            Positive                      20                     18   \n",
      "9            Positive                      21                     12   \n",
      "\n",
      "   Survival Months Status  \n",
      "0               60  Alive  \n",
      "1               62  Alive  \n",
      "2               75  Alive  \n",
      "3               84  Alive  \n",
      "4               50  Alive  \n",
      "5               89  Alive  \n",
      "6               54  Alive  \n",
      "7               14   Dead  \n",
      "8               70  Alive  \n",
      "9               92  Alive  \n"
     ]
    }
   ],
   "source": [
    "df = pd.read_csv('Breast_Cancer.csv')\n",
    "print(df.head(10))"
   ]
  }
 ],
 "metadata": {
  "kernelspec": {
   "display_name": "base",
   "language": "python",
   "name": "python3"
  },
  "language_info": {
   "codemirror_mode": {
    "name": "ipython",
    "version": 3
   },
   "file_extension": ".py",
   "mimetype": "text/x-python",
   "name": "python",
   "nbconvert_exporter": "python",
   "pygments_lexer": "ipython3",
   "version": "3.11.7"
  }
 },
 "nbformat": 4,
 "nbformat_minor": 2
}
